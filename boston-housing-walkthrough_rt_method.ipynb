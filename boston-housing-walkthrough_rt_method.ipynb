{
 "cells": [
  {
   "cell_type": "markdown",
   "metadata": {},
   "source": [
    "Joint Shapley value calculations on the Boston housing dataset (Harrison and Rubinfeld, 1978, JEEM)"
   ]
  },
  {
   "cell_type": "code",
   "execution_count": 1,
   "metadata": {},
   "outputs": [],
   "source": [
    "#import xgboost\n",
    "import shap\n",
    "import sklearn\n",
    "import numpy as np\n",
    "import pandas as pd\n",
    "import random\n",
    "import scipy\n",
    "from IPython.display import display, clear_output\n",
    "\n",
    "import seaborn as sns\n",
    "import matplotlib as mpl\n",
    "import matplotlib.pyplot as plt\n",
    "import copy\n",
    "sns.set_theme(style=\"whitegrid\")\n",
    "\n",
    "EMPTY = frozenset()\n",
    "\n",
    "# from joint_shapley import * # Where most of the JS code is "
   ]
  },
  {
   "cell_type": "code",
   "execution_count": 2,
   "metadata": {},
   "outputs": [],
   "source": [
    "k = 1\n",
    "num_sampling_iterations = 5"
   ]
  },
  {
   "cell_type": "code",
   "execution_count": 3,
   "metadata": {},
   "outputs": [],
   "source": [
    "def get_powerset_to_k(\n",
    "    features, \n",
    "    k,\n",
    "    init=True,\n",
    "):\n",
    "    if init:\n",
    "        features = [s if type(s) == frozenset else frozenset([s]) for s in features]\n",
    "    if len(features) <= 1:\n",
    "        yield features[0]\n",
    "        yield frozenset()\n",
    "    else:\n",
    "        for item in get_powerset_to_k(features[1:], k, False):\n",
    "            if len(item) <= k - 1:\n",
    "                yield features[0].union(item)\n",
    "            yield item\n",
    "            \n",
    "def get_powerset_to_k_ex_emptyset(seq, k):\n",
    "    gen = get_powerset_to_k(seq, k)\n",
    "    for item in gen:\n",
    "        if item != frozenset():\n",
    "            yield item"
   ]
  },
  {
   "cell_type": "code",
   "execution_count": 4,
   "metadata": {},
   "outputs": [
    {
     "name": "stdout",
     "output_type": "stream",
     "text": [
      "Dataset has 13 features and 506 observations\n"
     ]
    }
   ],
   "source": [
    "dataset_pathname = \"boston\"\n",
    "X,y = shap.datasets.boston()\n",
    "col_rename = {l: f\"{l}\" for l in X.columns}\n",
    "X = X.rename(columns=col_rename)\n",
    "y = y\n",
    "x_labels = [f\"{l}\" for l in X.columns]\n",
    "num_features = len(x_labels)\n",
    "print(f\"Dataset has {num_features} features and {len(y)} observations\")"
   ]
  },
  {
   "cell_type": "code",
   "execution_count": 5,
   "metadata": {},
   "outputs": [],
   "source": [
    "# Split train/test\n",
    "np.random.seed(0)\n",
    "test_train_split = np.random.uniform(0, 1, len(y)) <= .75\n",
    "train_X = X[test_train_split]\n",
    "train_y = y[test_train_split]\n",
    "test_X = X[~test_train_split]\n",
    "test_y = y[~test_train_split]"
   ]
  },
  {
   "cell_type": "code",
   "execution_count": 6,
   "metadata": {},
   "outputs": [
    {
     "data": {
      "image/png": "[encoded data removed]",
      "text/plain": [
       "<Figure size 576x468 with 1 Axes>"
      ]
     },
     "metadata": {},
     "output_type": "display_data"
    }
   ],
   "source": [
    "model = sklearn.ensemble.RandomForestRegressor(\n",
    "    n_jobs=10, n_estimators=50,random_state=0\n",
    ").fit(train_X, train_y)\n",
    "\n",
    "y_predicted = model.predict(test_X)\n",
    "explainer = shap.Explainer(model)\n",
    "shap_values = explainer(test_X)\n",
    "shap.plots.bar(shap_values)"
   ]
  },
  {
   "cell_type": "code",
   "execution_count": 7,
   "metadata": {},
   "outputs": [],
   "source": [
    "n_features = frozenset(x_labels)"
   ]
  },
  {
   "cell_type": "markdown",
   "metadata": {},
   "source": [
    "#### Define value function"
   ]
  },
  {
   "cell_type": "code",
   "execution_count": 8,
   "metadata": {},
   "outputs": [],
   "source": [
    "coalitions_to_k = get_powerset_to_k(n_features, k)\n",
    "\n",
    "baseline = explainer(test_X).base_values\n",
    "\n",
    "def value_function(cln_X):\n",
    "#     full_X = test_X.copy()\n",
    "#     full_X.loc[:, [col not in cln_X.columns for col in X.columns]] = \\\n",
    "#         full_X.mean(axis=0).loc[[col not in cln_X.columns for col in X.columns]].values.T\n",
    "#     full_X.loc[:, cln_X.columns] = cln_X\n",
    "    return model.predict(cln_X)# - baseline[0]"
   ]
  },
  {
   "cell_type": "code",
   "execution_count": 9,
   "metadata": {},
   "outputs": [],
   "source": [
    "def choose(n, k):\n",
    "    return scipy.special.comb(n, k)"
   ]
  },
  {
   "cell_type": "code",
   "execution_count": 10,
   "metadata": {},
   "outputs": [],
   "source": [
    "def get_q_values_for_k(k, num_local_features):\n",
    "    q = np.zeros(num_local_features, dtype=np.longdouble) \n",
    "    q0den = sum([\n",
    "        choose(num_local_features, s) for s in range(1, k+1)\n",
    "    ])\n",
    "    q[0] = 1/q0den \n",
    "    for r in range(1, num_local_features):\n",
    "        limd = min(k, (num_local_features - r))\n",
    "        limn = max((r - k), 0)\n",
    "        qden = sum([\n",
    "            choose(num_local_features - r, s) for s in range(1, limd+1)\n",
    "        ])\n",
    "        qnum = sum([\n",
    "            choose(r, s) * q[s] for s in range(limn, r)\n",
    "        ])\n",
    "        q[r] = qnum / qden\n",
    "    # Check that the checksum is satisfied\n",
    "    checksum = sum([\n",
    "        choose(num_local_features, i) * q[i] \n",
    "        for i in range((num_local_features - k), num_local_features)\n",
    "    ])\n",
    "    assert(np.isclose(checksum, 1.0))\n",
    "    return q\n",
    "\n",
    "_all_q_values = [get_q_values_for_k(_k, num_features) for _k in range(1, k+1)]\n",
    "q_values = np.vstack(_all_q_values)"
   ]
  },
  {
   "cell_type": "code",
   "execution_count": 11,
   "metadata": {},
   "outputs": [
    {
     "data": {
      "text/plain": [
       "(1, 13)"
      ]
     },
     "execution_count": 11,
     "metadata": {},
     "output_type": "execute_result"
    }
   ],
   "source": [
    "q_values.shape"
   ]
  },
  {
   "cell_type": "code",
   "execution_count": 12,
   "metadata": {},
   "outputs": [],
   "source": [
    "def calculate_phi_t(\n",
    "    review_oh,\n",
    "    all_observations,\n",
    "    value_function,\n",
    "    coalition_vc,\n",
    "    num_features,\n",
    "    q_values,\n",
    "    num_sampling_iterations,\n",
    "):\n",
    "    review_oh = review_oh.values\n",
    "    coalition_size = len(coalition_vc)\n",
    "    p_values = np.zeros((num_features - coalition_size + 1), dtype=np.longdouble)\n",
    "    for i in range(1, num_features - coalition_size + 2):\n",
    "        q_value = q_values[k-1, i-1]\n",
    "        num_ft_choose_len = choose((num_features - coalition_size), (i - 1))\n",
    "        p_values[i - 1] = num_ft_choose_len * q_value\n",
    "    hat_p_values = p_values / np.sum(p_values)\n",
    "    estimates = np.zeros(num_sampling_iterations)\n",
    "\n",
    "    for itr in range(0, num_sampling_iterations):\n",
    "        U = np.random.uniform(0, 1, 1)\n",
    "        X = sum(U > hat_p_values.cumsum())\n",
    "        S = set()\n",
    "        for w in range(1, X + 1):\n",
    "            possible_next = set(range(1, num_features + 1)).difference(\n",
    "                set(coalition_vc).union(S))\n",
    "            r = random.sample(possible_next, 1)\n",
    "            S = S.union(set(r))\n",
    "\n",
    "        z_num = random.choice(range(0, len(all_observations)))\n",
    "        z = all_observations.iloc[z_num]\n",
    "        \n",
    "        xminusT = np.copy(review_oh)\n",
    "        xplusT = np.copy(review_oh)\n",
    "        for h in set(range(0, num_features)).difference(S):\n",
    "            xminusT[h] = z[h]\n",
    "        for h in set(range(0, num_features)).difference(S.union(set(coalition_vc))):\n",
    "            xplusT[h] = z[h]\n",
    "        \n",
    "        estimates[itr] = value_function(xplusT.reshape(1,-1)) - \\\n",
    "            value_function(xminusT.reshape(1,-1))\n",
    "    return (np.mean(estimates) * np.sum(p_values))\n"
   ]
  },
  {
   "cell_type": "code",
   "execution_count": 13,
   "metadata": {},
   "outputs": [
    {
     "data": {
      "text/plain": [
       "CRIM         0.08447\n",
       "ZN           0.00000\n",
       "INDUS        4.05000\n",
       "CHAS         0.00000\n",
       "NOX          0.51000\n",
       "RM           5.85900\n",
       "AGE         68.70000\n",
       "DIS          2.70190\n",
       "RAD          5.00000\n",
       "TAX        296.00000\n",
       "PTRATIO     16.60000\n",
       "B          393.23000\n",
       "LSTAT        9.64000\n",
       "Name: 174, dtype: float64"
      ]
     },
     "execution_count": 13,
     "metadata": {},
     "output_type": "execute_result"
    }
   ],
   "source": [
    "num_observation = 38 # sets the review to be analysed\n",
    "sample_observation = test_X.iloc[num_observation]\n",
    "sample_observation"
   ]
  },
  {
   "cell_type": "code",
   "execution_count": 14,
   "metadata": {},
   "outputs": [
    {
     "data": {
      "text/plain": [
       "'Processing iter = 290'"
      ]
     },
     "metadata": {},
     "output_type": "display_data"
    }
   ],
   "source": [
    "# Test for a given t and x\n",
    "t_cln = frozenset([\"LSTAT\", \"AGE\"])\n",
    "results = {}\n",
    "for iters in range(10, 300, 10):\n",
    "    clear_output(wait=True)\n",
    "    display(f\"Processing iter = {iters}\")\n",
    "    results_for_iters = []\n",
    "    for x in range(0, 10):\n",
    "        this_res = calculate_phi_t(\n",
    "            sample_observation,\n",
    "            test_X,\n",
    "            value_function,\n",
    "            t_cln,\n",
    "            num_features,\n",
    "            q_values,\n",
    "            iters\n",
    "        )\n",
    "        results_for_iters.append(this_res)\n",
    "    results[iters] = np.std(results_for_iters)"
   ]
  },
  {
   "cell_type": "code",
   "execution_count": 15,
   "metadata": {},
   "outputs": [
    {
     "data": {
      "text/plain": [
       "<AxesSubplot:>"
      ]
     },
     "execution_count": 15,
     "metadata": {},
     "output_type": "execute_result"
    },
    {
     "data": {
      "image/png": "[encoded data removed]",
      "text/plain": [
       "<Figure size 432x288 with 1 Axes>"
      ]
     },
     "metadata": {},
     "output_type": "display_data"
    }
   ],
   "source": [
    "sns.lineplot(x=list(results.keys()), y=list(results.values()))"
   ]
  },
  {
   "cell_type": "code",
   "execution_count": 16,
   "metadata": {},
   "outputs": [],
   "source": [
    "def reduce_to_most_meaningful(local_js, to=10):\n",
    "    global_js = local_js.abs().mean(axis=0)\n",
    "    global_js = global_js.sort_values(ascending=False)\n",
    "    most_meaningful_coalitions = global_js.iloc[:to]\n",
    "    return most_meaningful_coalitions.index"
   ]
  },
  {
   "cell_type": "markdown",
   "metadata": {},
   "source": [
    "### Run calculation using new process"
   ]
  },
  {
   "cell_type": "code",
   "execution_count": 19,
   "metadata": {},
   "outputs": [],
   "source": [
    "coalitions_to_k_ex_empty = list(get_powerset_to_k(n_features, k))\n",
    "coalitions_to_k_ex_empty.remove(frozenset())\n",
    "\n",
    "local_js = pd.DataFrame()\n",
    "\n",
    "for n, observation in enumerate(test_X.iloc):\n",
    "    for coalition in coalitions_to_k_ex_empty:\n",
    "        local_js.loc[n, coalition] = calculate_phi_t(\n",
    "            observation,\n",
    "            test_X,\n",
    "            value_function,\n",
    "            coalition,\n",
    "            num_features,\n",
    "            q_values,\n",
    "            num_sampling_iterations\n",
    "        )\n",
    "        # print(f'k = {k}, review {n}, coalition {coalition}: local jShapley = {js}')\n",
    "    \n"
   ]
  },
  {
   "cell_type": "code",
   "execution_count": 23,
   "metadata": {},
   "outputs": [],
   "source": [
    "global_js = np.abs(local_js).mean(axis=0)"
   ]
  },
  {
   "cell_type": "code",
   "execution_count": 24,
   "metadata": {},
   "outputs": [
    {
     "data": {
      "text/plain": [
       "RM         1.350618e-16\n",
       "ZN         1.570828e-16\n",
       "PTRATIO    1.321257e-16\n",
       "DIS        1.732315e-16\n",
       "B          8.955187e-17\n",
       "LSTAT      4.697803e-17\n",
       "CRIM       1.614870e-16\n",
       "TAX        1.379980e-16\n",
       "INDUS      1.057006e-16\n",
       "AGE        1.262535e-16\n",
       "CHAS       7.046705e-17\n",
       "NOX        1.115728e-16\n",
       "RAD        8.514768e-17\n",
       "dtype: float64"
      ]
     },
     "execution_count": 24,
     "metadata": {},
     "output_type": "execute_result"
    }
   ],
   "source": [
    "global_js"
   ]
  },
  {
   "cell_type": "code",
   "execution_count": 26,
   "metadata": {},
   "outputs": [],
   "source": [
    "# export all local, global joint Shapleys\n",
    "local_js.to_csv(f\"local_{dataset_pathname}_all_js_k_{k}.csv\")\n",
    "global_js.to_csv(f\"global_{dataset_pathname}_all_js_k_{k}.csv\")"
   ]
  },
  {
   "cell_type": "code",
   "execution_count": 28,
   "metadata": {},
   "outputs": [],
   "source": [
    "new_mm_local_js = local_js.loc[:, reduce_to_most_meaningful(local_js)]\n",
    "new_mm_global_js = global_js.loc[reduce_to_most_meaningful(local_js)]"
   ]
  },
  {
   "cell_type": "code",
   "execution_count": 29,
   "metadata": {},
   "outputs": [],
   "source": [
    "def show_strip_plot(local_js):\n",
    "    stacked = local_js.stack().to_frame().rename(columns={0: \"Joint Shapley\"})\n",
    "    stacked.loc[:, \"Coalition\"] = [ind[1] for ind in stacked.index]\n",
    "    f, ax = plt.subplots()\n",
    "    sns.despine(bottom=True, left=True)\n",
    "    ax = sns.stripplot(\n",
    "        x=\"Joint Shapley\",\n",
    "        y=\"Coalition\",\n",
    "        data=stacked, \n",
    "        dodge=True, alpha=.5, zorder=1)\n",
    "    ax.xaxis.label.set_size(10)#set_xlabel(\"Coalition\", fontsize=6)\n",
    "    plt.show()"
   ]
  },
  {
   "cell_type": "code",
   "execution_count": 30,
   "metadata": {},
   "outputs": [
    {
     "data": {
      "image/png": "[encoded data removed]",
      "text/plain": [
       "<Figure size 432x288 with 1 Axes>"
      ]
     },
     "metadata": {},
     "output_type": "display_data"
    }
   ],
   "source": [
    "show_strip_plot(new_mm_local_js)"
   ]
  },
  {
   "cell_type": "code",
   "execution_count": 31,
   "metadata": {},
   "outputs": [
    {
     "data": {
      "image/png": "[encoded data removed]",
      "text/plain": [
       "<Figure size 432x288 with 1 Axes>"
      ]
     },
     "metadata": {},
     "output_type": "display_data"
    }
   ],
   "source": [
    "f, ax = plt.subplots()\n",
    "sns.lineplot(bottom=True, left=True)\n",
    "_ = sns.barplot(x=new_mm_global_js.values, y=new_mm_global_js.index)"
   ]
  },
  {
   "cell_type": "code",
   "execution_count": 32,
   "metadata": {},
   "outputs": [],
   "source": [
    "new_mm_local_js.to_csv(f\"local_{dataset_pathname}_js_k_{k}.csv\")\n",
    "new_mm_global_js.to_csv(f\"globa_{dataset_pathname}_js_k_{k}.csv\")"
   ]
  },
  {
   "cell_type": "code",
   "execution_count": null,
   "metadata": {},
   "outputs": [],
   "source": []
  },
  {
   "cell_type": "code",
   "execution_count": null,
   "metadata": {},
   "outputs": [],
   "source": []
  }
 ],
 "metadata": {
  "kernelspec": {
   "display_name": "Python 3",
   "language": "python",
   "name": "python3"
  },
  "language_info": {
   "codemirror_mode": {
    "name": "ipython",
    "version": 3
   },
   "file_extension": ".py",
   "mimetype": "text/x-python",
   "name": "python",
   "nbconvert_exporter": "python",
   "pygments_lexer": "ipython3",
   "version": "3.8.9"
  }
 },
 "nbformat": 4,
 "nbformat_minor": 4
}
