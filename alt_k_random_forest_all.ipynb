{
 "cells": [
  {
   "cell_type": "markdown",
   "metadata": {},
   "source": [
    "# Alt JS, ST for full Boston Housing dataset"
   ]
  },
  {
   "cell_type": "code",
   "execution_count": 1,
   "metadata": {},
   "outputs": [],
   "source": [
    "import shap\n",
    "import sklearn\n",
    "import numpy as np\n",
    "import pandas as pd\n",
    "\n",
    "from random import uniform\n",
    "import time\n",
    "from IPython.display import display, clear_output\n",
    "\n",
    "from joint_shapley import * # Where most of the JS code is "
   ]
  },
  {
   "cell_type": "markdown",
   "metadata": {},
   "source": [
    "#### Import dataset"
   ]
  },
  {
   "cell_type": "code",
   "execution_count": 2,
   "metadata": {},
   "outputs": [],
   "source": [
    "X,y = shap.datasets.boston()\n",
    "X = X\n",
    "y = y"
   ]
  },
  {
   "cell_type": "code",
   "execution_count": 3,
   "metadata": {},
   "outputs": [],
   "source": [
    "np.random.seed(0)\n",
    "test_train_split = np.random.uniform(0, 1, len(y)) <= .75\n",
    "train_X = X[test_train_split]\n",
    "train_y = y[test_train_split]\n",
    "test_X = X[~test_train_split]\n",
    "test_y = y[~test_train_split]"
   ]
  },
  {
   "cell_type": "code",
   "execution_count": 4,
   "metadata": {},
   "outputs": [
    {
     "name": "stdout",
     "output_type": "stream",
     "text": [
      "Dataset has 13 features and 506 observations\n"
     ]
    }
   ],
   "source": [
    "x_labels = X.columns\n",
    "n = len(x_labels)\n",
    "print(f\"Dataset has {n} features and {len(y)} observations\")"
   ]
  },
  {
   "cell_type": "markdown",
   "metadata": {},
   "source": [
    "#### The empty set is included the coalition sets, so we need a proxy ML model for it"
   ]
  },
  {
   "cell_type": "code",
   "execution_count": 5,
   "metadata": {},
   "outputs": [],
   "source": [
    "model = sklearn.ensemble.RandomForestRegressor(\n",
    "    n_jobs=10, n_estimators=50,random_state=0\n",
    ").fit(train_X, train_y)"
   ]
  },
  {
   "cell_type": "code",
   "execution_count": 6,
   "metadata": {},
   "outputs": [
    {
     "data": {
      "text/plain": [
       "'Processing k = 1, row 120 / 121'"
      ]
     },
     "metadata": {},
     "output_type": "display_data"
    },
    {
     "name": "stdout",
     "output_type": "stream",
     "text": [
      "Exporting data for k = 1 to csv\n"
     ]
    }
   ],
   "source": [
    "%pdb\n",
    "\n",
    "for k in range(1, 2):\n",
    "    print(f\"Starting calculation for k = {k}\")\n",
    "    n_cln = frozenset(x_labels)\n",
    "    full_powerset = list(get_powerset(n_cln))\n",
    "    powerset_to_k = list(get_powerset_to_k(n_cln, k))\n",
    "    q_values = get_q_values(n, k)\n",
    "\n",
    "    coalition_predictions = {}\n",
    "    for cln in full_powerset:\n",
    "        cln_X = test_X.copy()\n",
    "        cln_X.loc[:, [col not in cln for col in X.columns]] = \\\n",
    "        test_X.mean(axis=0).loc[[col not in cln for col in X.columns]].values.T\n",
    "        coalition_predictions[cln] = model.predict(cln_X)\n",
    "        \n",
    "    explainer = shap.Explainer(model)\n",
    "    shap_values = explainer(train_X)\n",
    "    baseline = shap_values.base_values\n",
    "    # Sort for better output\n",
    "    lst_coalitions_to_k = [\", \".join(sorted(fs)) for fs in powerset_to_k if fs != EMPTY]\n",
    "    sorted_coalitions_to_k = sorted(lst_coalitions_to_k, key = lambda x: (len(x), x))\n",
    "    local_shapley_taylors = pd.DataFrame(columns = sorted_coalitions_to_k)\n",
    "    local_joint_shapleys = pd.DataFrame(columns = sorted_coalitions_to_k)\n",
    "\n",
    "    for num, (_, observation) in enumerate(test_X.iterrows()):\n",
    "        clear_output(wait=True)\n",
    "        display(f\"Processing k = {k}, row {num} / {len(test_y)}\")\n",
    "        value_function = lambda cln: coalition_predictions[cln][num]# - baseline[num][0] # Set value function\n",
    "        #local_st = get_shapley_taylors(value_function, n_cln, k) # Create row\n",
    "        #local_st_parsed = {\", \".join(sorted(fs)): val for fs, val in local_st.items()}\n",
    "        #local_shapley_taylors = local_shapley_taylors.append(local_st_parsed, ignore_index=True) # Then add row to df\n",
    "        local_js = get_k_extended_joint_shapleys(value_function, n_cln, q_values, k)\n",
    "        local_js_parsed = {\", \".join(sorted(fs)): val for fs, val in local_js.items()}\n",
    "        local_joint_shapleys = local_joint_shapleys.append(local_js_parsed, ignore_index=True) # Then add row to df\n",
    "    print(f\"Exporting data for k = {k} to csv\")\n",
    "    #local_shapley_taylors.to_csv(f\"./boston_csv_output/alt_rf_st_k_{k}.csv\")\n",
    "    #global_shapley_taylors = np.abs(local_shapley_taylors).mean(axis=0)\n",
    "    #global_shapley_taylors.to_csv(f\"./boston_csv_output/alt_rf_global_st_k_{k}.csv\")\n",
    "    local_joint_shapleys.to_csv(f\"./results/alt_rf_js_k_{k}.csv\")\n",
    "    global_joint_shapleys = np.abs(local_joint_shapleys).mean(axis=0)\n",
    "    global_joint_shapleys.to_csv(f\"./results/alt_rf_global_js_k_{k}.csv\")"
   ]
  },
  {
   "cell_type": "code",
   "execution_count": 25,
   "metadata": {},
   "outputs": [
    {
     "data": {
      "text/plain": [
       "array([23.009312, 22.833064, 22.861143, 22.8349  , 22.822298, 22.277194,\n",
       "       22.807036, 23.135534, 22.838183, 22.803847, 22.800274, 22.885129,\n",
       "       21.884993])"
      ]
     },
     "execution_count": 25,
     "metadata": {},
     "output_type": "execute_result"
    }
   ],
   "source": [
    "(shap_values.values + shap_values.base_values).mean(axis=0)"
   ]
  },
  {
   "cell_type": "code",
   "execution_count": 22,
   "metadata": {},
   "outputs": [
    {
     "data": {
      "text/plain": [
       "array([ 0.170444, -0.005803,  0.022276, -0.003968, -0.01657 , -0.561674,\n",
       "       -0.031832,  0.296666, -0.000685, -0.035021, -0.038593,  0.046262,\n",
       "       -0.953875])"
      ]
     },
     "execution_count": 22,
     "metadata": {},
     "output_type": "execute_result"
    }
   ],
   "source": [
    "shap_values.values.mean(axis=0)"
   ]
  },
  {
   "cell_type": "code",
   "execution_count": 12,
   "metadata": {},
   "outputs": [
    {
     "data": {
      "text/plain": [
       "21.726495867768595"
      ]
     },
     "execution_count": 12,
     "metadata": {},
     "output_type": "execute_result"
    }
   ],
   "source": [
    "local_joint_shapleys.sum(axis=1).mean()"
   ]
  },
  {
   "cell_type": "markdown",
   "metadata": {},
   "source": [
    "#### Global Shapleys from SHAP Package"
   ]
  },
  {
   "cell_type": "code",
   "execution_count": 8,
   "metadata": {},
   "outputs": [
    {
     "data": {
      "image/png": "[encoded data removed]",
      "text/plain": [
       "<Figure size 576x468 with 1 Axes>"
      ]
     },
     "metadata": {},
     "output_type": "display_data"
    }
   ],
   "source": [
    "y_predicted = model.predict(test_X)\n",
    "explainer = shap.Explainer(model)\n",
    "shap_values = explainer(test_X)\n",
    "shap.plots.bar(shap_values)"
   ]
  },
  {
   "cell_type": "code",
   "execution_count": 9,
   "metadata": {},
   "outputs": [
    {
     "data": {
      "text/plain": [
       "B          1.547380\n",
       "RM         3.395768\n",
       "ZN         1.684237\n",
       "AGE        1.374207\n",
       "DIS        1.938991\n",
       "NOX        1.479788\n",
       "RAD        1.641434\n",
       "TAX        1.819698\n",
       "CHAS       1.689696\n",
       "CRIM       1.358832\n",
       "INDUS      1.636113\n",
       "LSTAT      2.742904\n",
       "PTRATIO    1.656256\n",
       "           0.000000\n",
       "dtype: float64"
      ]
     },
     "execution_count": 9,
     "metadata": {},
     "output_type": "execute_result"
    }
   ],
   "source": [
    "global_joint_shapleys"
   ]
  },
  {
   "cell_type": "code",
   "execution_count": null,
   "metadata": {},
   "outputs": [],
   "source": []
  }
 ],
 "metadata": {
  "kernelspec": {
   "display_name": "Python 3",
   "language": "python",
   "name": "python3"
  },
  "language_info": {
   "codemirror_mode": {
    "name": "ipython",
    "version": 3
   },
   "file_extension": ".py",
   "mimetype": "text/x-python",
   "name": "python",
   "nbconvert_exporter": "python",
   "pygments_lexer": "ipython3",
   "version": "3.8.9"
  }
 },
 "nbformat": 4,
 "nbformat_minor": 4
}
